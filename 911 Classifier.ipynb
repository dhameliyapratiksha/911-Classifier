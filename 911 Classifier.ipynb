{
 "cells": [
  {
   "cell_type": "code",
   "execution_count": 1,
   "metadata": {},
   "outputs": [],
   "source": [
    "import os\n"
   ]
  },
  {
   "cell_type": "code",
   "execution_count": 2,
   "metadata": {},
   "outputs": [
    {
     "name": "stdout",
     "output_type": "stream",
     "text": [
      "['.ipynb_checkpoints', '911.csv', '911_Project_1.html', '911_Project_1.ipynb', '911_project_2.ipynb', 'all project', 'database.txt', 'database_project_1.ipynb', 'Housing.html', 'HousingData.csv', 'linear regression prec.ipynb', 'Linear Regression.html', 'Machine_Learning_project_4.ipynb', 'Matploatlib.ipynb', 'ML_4.ipynb', 'my_todo.db', 'NPM_SY.ipynb', 'numpy.ipynb', 'Numpy_Pandas_Matplotlib.html', 'pandas.ipynb', 'project2.ipynb', 'Python1.html', 'Python1.ipynb', 'readme.md', 'Realhousing.csv', 'realhusing_project_3.ipynb', 'Seaborn.html', 'Untitled.ipynb', 'Untitled2.ipynb']\n"
     ]
    }
   ],
   "source": [
    "print(os.listdir())"
   ]
  },
  {
   "cell_type": "code",
   "execution_count": 3,
   "metadata": {},
   "outputs": [],
   "source": [
    "import numpy as np\n",
    "import pandas as pd\n",
    "import matplotlib.pyplot as plt\n",
    "import seaborn as sns\n",
    " "
   ]
  },
  {
   "cell_type": "code",
   "execution_count": 4,
   "metadata": {},
   "outputs": [],
   "source": [
    "%matplotlib inline"
   ]
  },
  {
   "cell_type": "code",
   "execution_count": 5,
   "metadata": {},
   "outputs": [],
   "source": [
    "#Imported dataset\n",
    "dataframe=pd.read_csv('911.csv')"
   ]
  },
  {
   "cell_type": "code",
   "execution_count": 6,
   "metadata": {},
   "outputs": [
    {
     "name": "stdout",
     "output_type": "stream",
     "text": [
      "<class 'pandas.core.frame.DataFrame'>\n",
      "RangeIndex: 289240 entries, 0 to 289239\n",
      "Data columns (total 9 columns):\n",
      " #   Column     Non-Null Count   Dtype  \n",
      "---  ------     --------------   -----  \n",
      " 0   lat        289240 non-null  float64\n",
      " 1   lng        289240 non-null  float64\n",
      " 2   desc       289240 non-null  object \n",
      " 3   zip        253942 non-null  float64\n",
      " 4   title      289240 non-null  object \n",
      " 5   timeStamp  289240 non-null  object \n",
      " 6   twp        289137 non-null  object \n",
      " 7   addr       289240 non-null  object \n",
      " 8   e          289240 non-null  int64  \n",
      "dtypes: float64(3), int64(1), object(5)\n",
      "memory usage: 19.9+ MB\n"
     ]
    }
   ],
   "source": [
    "dataframe.info()"
   ]
  },
  {
   "cell_type": "code",
   "execution_count": 7,
   "metadata": {},
   "outputs": [
    {
     "data": {
      "text/html": [
       "<div>\n",
       "<style scoped>\n",
       "    .dataframe tbody tr th:only-of-type {\n",
       "        vertical-align: middle;\n",
       "    }\n",
       "\n",
       "    .dataframe tbody tr th {\n",
       "        vertical-align: top;\n",
       "    }\n",
       "\n",
       "    .dataframe thead th {\n",
       "        text-align: right;\n",
       "    }\n",
       "</style>\n",
       "<table border=\"1\" class=\"dataframe\">\n",
       "  <thead>\n",
       "    <tr style=\"text-align: right;\">\n",
       "      <th></th>\n",
       "      <th>lat</th>\n",
       "      <th>lng</th>\n",
       "      <th>desc</th>\n",
       "      <th>zip</th>\n",
       "      <th>title</th>\n",
       "      <th>timeStamp</th>\n",
       "      <th>twp</th>\n",
       "      <th>addr</th>\n",
       "      <th>e</th>\n",
       "    </tr>\n",
       "  </thead>\n",
       "  <tbody>\n",
       "    <tr>\n",
       "      <th>0</th>\n",
       "      <td>40.297876</td>\n",
       "      <td>-75.581294</td>\n",
       "      <td>REINDEER CT &amp; DEAD END;  NEW HANOVER; Station ...</td>\n",
       "      <td>19525.0</td>\n",
       "      <td>EMS: BACK PAINS/INJURY</td>\n",
       "      <td>2015-12-10 17:10:52</td>\n",
       "      <td>NEW HANOVER</td>\n",
       "      <td>REINDEER CT &amp; DEAD END</td>\n",
       "      <td>1</td>\n",
       "    </tr>\n",
       "    <tr>\n",
       "      <th>1</th>\n",
       "      <td>40.258061</td>\n",
       "      <td>-75.264680</td>\n",
       "      <td>BRIAR PATH &amp; WHITEMARSH LN;  HATFIELD TOWNSHIP...</td>\n",
       "      <td>19446.0</td>\n",
       "      <td>EMS: DIABETIC EMERGENCY</td>\n",
       "      <td>2015-12-10 17:29:21</td>\n",
       "      <td>HATFIELD TOWNSHIP</td>\n",
       "      <td>BRIAR PATH &amp; WHITEMARSH LN</td>\n",
       "      <td>1</td>\n",
       "    </tr>\n",
       "    <tr>\n",
       "      <th>2</th>\n",
       "      <td>40.121182</td>\n",
       "      <td>-75.351975</td>\n",
       "      <td>HAWS AVE; NORRISTOWN; 2015-12-10 @ 14:39:21-St...</td>\n",
       "      <td>19401.0</td>\n",
       "      <td>Fire: GAS-ODOR/LEAK</td>\n",
       "      <td>2015-12-10 14:39:21</td>\n",
       "      <td>NORRISTOWN</td>\n",
       "      <td>HAWS AVE</td>\n",
       "      <td>1</td>\n",
       "    </tr>\n",
       "    <tr>\n",
       "      <th>3</th>\n",
       "      <td>40.116153</td>\n",
       "      <td>-75.343513</td>\n",
       "      <td>AIRY ST &amp; SWEDE ST;  NORRISTOWN; Station 308A;...</td>\n",
       "      <td>19401.0</td>\n",
       "      <td>EMS: CARDIAC EMERGENCY</td>\n",
       "      <td>2015-12-10 16:47:36</td>\n",
       "      <td>NORRISTOWN</td>\n",
       "      <td>AIRY ST &amp; SWEDE ST</td>\n",
       "      <td>1</td>\n",
       "    </tr>\n",
       "    <tr>\n",
       "      <th>4</th>\n",
       "      <td>40.251492</td>\n",
       "      <td>-75.603350</td>\n",
       "      <td>CHERRYWOOD CT &amp; DEAD END;  LOWER POTTSGROVE; S...</td>\n",
       "      <td>NaN</td>\n",
       "      <td>EMS: DIZZINESS</td>\n",
       "      <td>2015-12-10 16:56:52</td>\n",
       "      <td>LOWER POTTSGROVE</td>\n",
       "      <td>CHERRYWOOD CT &amp; DEAD END</td>\n",
       "      <td>1</td>\n",
       "    </tr>\n",
       "  </tbody>\n",
       "</table>\n",
       "</div>"
      ],
      "text/plain": [
       "         lat        lng                                               desc  \\\n",
       "0  40.297876 -75.581294  REINDEER CT & DEAD END;  NEW HANOVER; Station ...   \n",
       "1  40.258061 -75.264680  BRIAR PATH & WHITEMARSH LN;  HATFIELD TOWNSHIP...   \n",
       "2  40.121182 -75.351975  HAWS AVE; NORRISTOWN; 2015-12-10 @ 14:39:21-St...   \n",
       "3  40.116153 -75.343513  AIRY ST & SWEDE ST;  NORRISTOWN; Station 308A;...   \n",
       "4  40.251492 -75.603350  CHERRYWOOD CT & DEAD END;  LOWER POTTSGROVE; S...   \n",
       "\n",
       "       zip                    title            timeStamp                twp  \\\n",
       "0  19525.0   EMS: BACK PAINS/INJURY  2015-12-10 17:10:52        NEW HANOVER   \n",
       "1  19446.0  EMS: DIABETIC EMERGENCY  2015-12-10 17:29:21  HATFIELD TOWNSHIP   \n",
       "2  19401.0      Fire: GAS-ODOR/LEAK  2015-12-10 14:39:21         NORRISTOWN   \n",
       "3  19401.0   EMS: CARDIAC EMERGENCY  2015-12-10 16:47:36         NORRISTOWN   \n",
       "4      NaN           EMS: DIZZINESS  2015-12-10 16:56:52   LOWER POTTSGROVE   \n",
       "\n",
       "                         addr  e  \n",
       "0      REINDEER CT & DEAD END  1  \n",
       "1  BRIAR PATH & WHITEMARSH LN  1  \n",
       "2                    HAWS AVE  1  \n",
       "3          AIRY ST & SWEDE ST  1  \n",
       "4    CHERRYWOOD CT & DEAD END  1  "
      ]
     },
     "execution_count": 7,
     "metadata": {},
     "output_type": "execute_result"
    }
   ],
   "source": [
    "dataframe.head()"
   ]
  },
  {
   "cell_type": "code",
   "execution_count": 8,
   "metadata": {},
   "outputs": [
    {
     "data": {
      "text/html": [
       "<div>\n",
       "<style scoped>\n",
       "    .dataframe tbody tr th:only-of-type {\n",
       "        vertical-align: middle;\n",
       "    }\n",
       "\n",
       "    .dataframe tbody tr th {\n",
       "        vertical-align: top;\n",
       "    }\n",
       "\n",
       "    .dataframe thead th {\n",
       "        text-align: right;\n",
       "    }\n",
       "</style>\n",
       "<table border=\"1\" class=\"dataframe\">\n",
       "  <thead>\n",
       "    <tr style=\"text-align: right;\">\n",
       "      <th></th>\n",
       "      <th>lat</th>\n",
       "      <th>lng</th>\n",
       "      <th>desc</th>\n",
       "      <th>zip</th>\n",
       "      <th>title</th>\n",
       "      <th>timeStamp</th>\n",
       "      <th>twp</th>\n",
       "      <th>addr</th>\n",
       "      <th>e</th>\n",
       "    </tr>\n",
       "  </thead>\n",
       "  <tbody>\n",
       "    <tr>\n",
       "      <th>289235</th>\n",
       "      <td>40.024967</td>\n",
       "      <td>-75.282905</td>\n",
       "      <td>SCHUYLKILL EXPY &amp; RAMP CITY AVE EB TO I76 WB; ...</td>\n",
       "      <td>NaN</td>\n",
       "      <td>EMS: VEHICLE ACCIDENT</td>\n",
       "      <td>2017-12-30 11:11:36</td>\n",
       "      <td>LOWER MERION</td>\n",
       "      <td>SCHUYLKILL EXPY &amp; RAMP CITY AVE EB TO I76 WB</td>\n",
       "      <td>1</td>\n",
       "    </tr>\n",
       "    <tr>\n",
       "      <th>289236</th>\n",
       "      <td>40.024967</td>\n",
       "      <td>-75.282905</td>\n",
       "      <td>SCHUYLKILL EXPY &amp; RAMP CITY AVE EB TO I76 WB; ...</td>\n",
       "      <td>NaN</td>\n",
       "      <td>Fire: VEHICLE ACCIDENT</td>\n",
       "      <td>2017-12-30 11:11:30</td>\n",
       "      <td>LOWER MERION</td>\n",
       "      <td>SCHUYLKILL EXPY &amp; RAMP CITY AVE EB TO I76 WB</td>\n",
       "      <td>1</td>\n",
       "    </tr>\n",
       "    <tr>\n",
       "      <th>289237</th>\n",
       "      <td>40.107918</td>\n",
       "      <td>-75.163347</td>\n",
       "      <td>EDGE HILL RD &amp; LIMEKILN PIKE; ABINGTON; 2017-1...</td>\n",
       "      <td>19038.0</td>\n",
       "      <td>Traffic: VEHICLE ACCIDENT -</td>\n",
       "      <td>2017-12-30 11:15:24</td>\n",
       "      <td>ABINGTON</td>\n",
       "      <td>EDGE HILL RD &amp; LIMEKILN PIKE</td>\n",
       "      <td>1</td>\n",
       "    </tr>\n",
       "    <tr>\n",
       "      <th>289238</th>\n",
       "      <td>40.061921</td>\n",
       "      <td>-75.117655</td>\n",
       "      <td>COVENTRY AVE &amp; NEW SECOND ST; CHELTENHAM; 2017...</td>\n",
       "      <td>19027.0</td>\n",
       "      <td>Traffic: DISABLED VEHICLE -</td>\n",
       "      <td>2017-12-30 11:12:03</td>\n",
       "      <td>CHELTENHAM</td>\n",
       "      <td>COVENTRY AVE &amp; NEW SECOND ST</td>\n",
       "      <td>1</td>\n",
       "    </tr>\n",
       "    <tr>\n",
       "      <th>289239</th>\n",
       "      <td>40.098662</td>\n",
       "      <td>-75.352777</td>\n",
       "      <td>DEKALB PIKE &amp; W BORO LINE RD; UPPER MERION; 20...</td>\n",
       "      <td>19406.0</td>\n",
       "      <td>Traffic: VEHICLE ACCIDENT -</td>\n",
       "      <td>2017-12-30 11:14:31</td>\n",
       "      <td>UPPER MERION</td>\n",
       "      <td>DEKALB PIKE &amp; W BORO LINE RD</td>\n",
       "      <td>1</td>\n",
       "    </tr>\n",
       "  </tbody>\n",
       "</table>\n",
       "</div>"
      ],
      "text/plain": [
       "              lat        lng  \\\n",
       "289235  40.024967 -75.282905   \n",
       "289236  40.024967 -75.282905   \n",
       "289237  40.107918 -75.163347   \n",
       "289238  40.061921 -75.117655   \n",
       "289239  40.098662 -75.352777   \n",
       "\n",
       "                                                     desc      zip  \\\n",
       "289235  SCHUYLKILL EXPY & RAMP CITY AVE EB TO I76 WB; ...      NaN   \n",
       "289236  SCHUYLKILL EXPY & RAMP CITY AVE EB TO I76 WB; ...      NaN   \n",
       "289237  EDGE HILL RD & LIMEKILN PIKE; ABINGTON; 2017-1...  19038.0   \n",
       "289238  COVENTRY AVE & NEW SECOND ST; CHELTENHAM; 2017...  19027.0   \n",
       "289239  DEKALB PIKE & W BORO LINE RD; UPPER MERION; 20...  19406.0   \n",
       "\n",
       "                              title            timeStamp           twp  \\\n",
       "289235        EMS: VEHICLE ACCIDENT  2017-12-30 11:11:36  LOWER MERION   \n",
       "289236       Fire: VEHICLE ACCIDENT  2017-12-30 11:11:30  LOWER MERION   \n",
       "289237  Traffic: VEHICLE ACCIDENT -  2017-12-30 11:15:24      ABINGTON   \n",
       "289238  Traffic: DISABLED VEHICLE -  2017-12-30 11:12:03    CHELTENHAM   \n",
       "289239  Traffic: VEHICLE ACCIDENT -  2017-12-30 11:14:31  UPPER MERION   \n",
       "\n",
       "                                                addr  e  \n",
       "289235  SCHUYLKILL EXPY & RAMP CITY AVE EB TO I76 WB  1  \n",
       "289236  SCHUYLKILL EXPY & RAMP CITY AVE EB TO I76 WB  1  \n",
       "289237                  EDGE HILL RD & LIMEKILN PIKE  1  \n",
       "289238                  COVENTRY AVE & NEW SECOND ST  1  \n",
       "289239                  DEKALB PIKE & W BORO LINE RD  1  "
      ]
     },
     "execution_count": 8,
     "metadata": {},
     "output_type": "execute_result"
    }
   ],
   "source": [
    "dataframe.tail()"
   ]
  },
  {
   "cell_type": "code",
   "execution_count": 9,
   "metadata": {},
   "outputs": [
    {
     "data": {
      "text/plain": [
       "19401.0    19821\n",
       "19464.0    19276\n",
       "19403.0    14524\n",
       "19446.0    13939\n",
       "19406.0     9601\n",
       "Name: zip, dtype: int64"
      ]
     },
     "execution_count": 9,
     "metadata": {},
     "output_type": "execute_result"
    }
   ],
   "source": [
    "dataframe['zip'].value_counts().head()"
   ]
  },
  {
   "cell_type": "code",
   "execution_count": 10,
   "metadata": {},
   "outputs": [
    {
     "data": {
      "text/plain": [
       "77316.0    1\n",
       "19382.0    1\n",
       "19457.0    1\n",
       "19486.0    1\n",
       "17555.0    1\n",
       "Name: zip, dtype: int64"
      ]
     },
     "execution_count": 10,
     "metadata": {},
     "output_type": "execute_result"
    }
   ],
   "source": [
    "dataframe['zip'].value_counts().tail()"
   ]
  },
  {
   "cell_type": "code",
   "execution_count": 11,
   "metadata": {},
   "outputs": [
    {
     "data": {
      "text/plain": [
       "LOWER MERION    24826\n",
       "ABINGTON        17820\n",
       "NORRISTOWN      16546\n",
       "UPPER MERION    15288\n",
       "CHELTENHAM      13359\n",
       "Name: twp, dtype: int64"
      ]
     },
     "execution_count": 11,
     "metadata": {},
     "output_type": "execute_result"
    }
   ],
   "source": [
    "dataframe['twp'].value_counts().head()"
   ]
  },
  {
   "cell_type": "code",
   "execution_count": 12,
   "metadata": {},
   "outputs": [
    {
     "data": {
      "text/plain": [
       "BRYN ATHYN       544\n",
       "SALFORD          502\n",
       "GREEN LANE       184\n",
       "PHILA COUNTY     115\n",
       "LEHIGH COUNTY     67\n",
       "Name: twp, dtype: int64"
      ]
     },
     "execution_count": 12,
     "metadata": {},
     "output_type": "execute_result"
    }
   ],
   "source": [
    "dataframe['twp'].value_counts().tail()"
   ]
  },
  {
   "cell_type": "code",
   "execution_count": 13,
   "metadata": {},
   "outputs": [
    {
     "data": {
      "text/plain": [
       "131"
      ]
     },
     "execution_count": 13,
     "metadata": {},
     "output_type": "execute_result"
    }
   ],
   "source": [
    "dataframe['title'].nunique()"
   ]
  },
  {
   "cell_type": "code",
   "execution_count": 14,
   "metadata": {},
   "outputs": [
    {
     "data": {
      "text/plain": [
       "32005"
      ]
     },
     "execution_count": 14,
     "metadata": {},
     "output_type": "execute_result"
    }
   ],
   "source": [
    "dataframe['addr'].nunique()"
   ]
  },
  {
   "cell_type": "code",
   "execution_count": 15,
   "metadata": {},
   "outputs": [],
   "source": [
    "dataframe[\"divide\"] = dataframe['title'].apply(lambda title: title.split(':')[1])"
   ]
  },
  {
   "cell_type": "code",
   "execution_count": 16,
   "metadata": {},
   "outputs": [
    {
     "data": {
      "text/html": [
       "<div>\n",
       "<style scoped>\n",
       "    .dataframe tbody tr th:only-of-type {\n",
       "        vertical-align: middle;\n",
       "    }\n",
       "\n",
       "    .dataframe tbody tr th {\n",
       "        vertical-align: top;\n",
       "    }\n",
       "\n",
       "    .dataframe thead th {\n",
       "        text-align: right;\n",
       "    }\n",
       "</style>\n",
       "<table border=\"1\" class=\"dataframe\">\n",
       "  <thead>\n",
       "    <tr style=\"text-align: right;\">\n",
       "      <th></th>\n",
       "      <th>lat</th>\n",
       "      <th>lng</th>\n",
       "      <th>desc</th>\n",
       "      <th>zip</th>\n",
       "      <th>title</th>\n",
       "      <th>timeStamp</th>\n",
       "      <th>twp</th>\n",
       "      <th>addr</th>\n",
       "      <th>e</th>\n",
       "      <th>divide</th>\n",
       "    </tr>\n",
       "  </thead>\n",
       "  <tbody>\n",
       "    <tr>\n",
       "      <th>0</th>\n",
       "      <td>40.297876</td>\n",
       "      <td>-75.581294</td>\n",
       "      <td>REINDEER CT &amp; DEAD END;  NEW HANOVER; Station ...</td>\n",
       "      <td>19525.0</td>\n",
       "      <td>EMS: BACK PAINS/INJURY</td>\n",
       "      <td>2015-12-10 17:10:52</td>\n",
       "      <td>NEW HANOVER</td>\n",
       "      <td>REINDEER CT &amp; DEAD END</td>\n",
       "      <td>1</td>\n",
       "      <td>BACK PAINS/INJURY</td>\n",
       "    </tr>\n",
       "    <tr>\n",
       "      <th>1</th>\n",
       "      <td>40.258061</td>\n",
       "      <td>-75.264680</td>\n",
       "      <td>BRIAR PATH &amp; WHITEMARSH LN;  HATFIELD TOWNSHIP...</td>\n",
       "      <td>19446.0</td>\n",
       "      <td>EMS: DIABETIC EMERGENCY</td>\n",
       "      <td>2015-12-10 17:29:21</td>\n",
       "      <td>HATFIELD TOWNSHIP</td>\n",
       "      <td>BRIAR PATH &amp; WHITEMARSH LN</td>\n",
       "      <td>1</td>\n",
       "      <td>DIABETIC EMERGENCY</td>\n",
       "    </tr>\n",
       "    <tr>\n",
       "      <th>2</th>\n",
       "      <td>40.121182</td>\n",
       "      <td>-75.351975</td>\n",
       "      <td>HAWS AVE; NORRISTOWN; 2015-12-10 @ 14:39:21-St...</td>\n",
       "      <td>19401.0</td>\n",
       "      <td>Fire: GAS-ODOR/LEAK</td>\n",
       "      <td>2015-12-10 14:39:21</td>\n",
       "      <td>NORRISTOWN</td>\n",
       "      <td>HAWS AVE</td>\n",
       "      <td>1</td>\n",
       "      <td>GAS-ODOR/LEAK</td>\n",
       "    </tr>\n",
       "    <tr>\n",
       "      <th>3</th>\n",
       "      <td>40.116153</td>\n",
       "      <td>-75.343513</td>\n",
       "      <td>AIRY ST &amp; SWEDE ST;  NORRISTOWN; Station 308A;...</td>\n",
       "      <td>19401.0</td>\n",
       "      <td>EMS: CARDIAC EMERGENCY</td>\n",
       "      <td>2015-12-10 16:47:36</td>\n",
       "      <td>NORRISTOWN</td>\n",
       "      <td>AIRY ST &amp; SWEDE ST</td>\n",
       "      <td>1</td>\n",
       "      <td>CARDIAC EMERGENCY</td>\n",
       "    </tr>\n",
       "    <tr>\n",
       "      <th>4</th>\n",
       "      <td>40.251492</td>\n",
       "      <td>-75.603350</td>\n",
       "      <td>CHERRYWOOD CT &amp; DEAD END;  LOWER POTTSGROVE; S...</td>\n",
       "      <td>NaN</td>\n",
       "      <td>EMS: DIZZINESS</td>\n",
       "      <td>2015-12-10 16:56:52</td>\n",
       "      <td>LOWER POTTSGROVE</td>\n",
       "      <td>CHERRYWOOD CT &amp; DEAD END</td>\n",
       "      <td>1</td>\n",
       "      <td>DIZZINESS</td>\n",
       "    </tr>\n",
       "  </tbody>\n",
       "</table>\n",
       "</div>"
      ],
      "text/plain": [
       "         lat        lng                                               desc  \\\n",
       "0  40.297876 -75.581294  REINDEER CT & DEAD END;  NEW HANOVER; Station ...   \n",
       "1  40.258061 -75.264680  BRIAR PATH & WHITEMARSH LN;  HATFIELD TOWNSHIP...   \n",
       "2  40.121182 -75.351975  HAWS AVE; NORRISTOWN; 2015-12-10 @ 14:39:21-St...   \n",
       "3  40.116153 -75.343513  AIRY ST & SWEDE ST;  NORRISTOWN; Station 308A;...   \n",
       "4  40.251492 -75.603350  CHERRYWOOD CT & DEAD END;  LOWER POTTSGROVE; S...   \n",
       "\n",
       "       zip                    title            timeStamp                twp  \\\n",
       "0  19525.0   EMS: BACK PAINS/INJURY  2015-12-10 17:10:52        NEW HANOVER   \n",
       "1  19446.0  EMS: DIABETIC EMERGENCY  2015-12-10 17:29:21  HATFIELD TOWNSHIP   \n",
       "2  19401.0      Fire: GAS-ODOR/LEAK  2015-12-10 14:39:21         NORRISTOWN   \n",
       "3  19401.0   EMS: CARDIAC EMERGENCY  2015-12-10 16:47:36         NORRISTOWN   \n",
       "4      NaN           EMS: DIZZINESS  2015-12-10 16:56:52   LOWER POTTSGROVE   \n",
       "\n",
       "                         addr  e               divide  \n",
       "0      REINDEER CT & DEAD END  1    BACK PAINS/INJURY  \n",
       "1  BRIAR PATH & WHITEMARSH LN  1   DIABETIC EMERGENCY  \n",
       "2                    HAWS AVE  1        GAS-ODOR/LEAK  \n",
       "3          AIRY ST & SWEDE ST  1    CARDIAC EMERGENCY  \n",
       "4    CHERRYWOOD CT & DEAD END  1            DIZZINESS  "
      ]
     },
     "execution_count": 16,
     "metadata": {},
     "output_type": "execute_result"
    }
   ],
   "source": [
    "dataframe.head()"
   ]
  },
  {
   "cell_type": "code",
   "execution_count": 17,
   "metadata": {},
   "outputs": [
    {
     "data": {
      "text/html": [
       "<div>\n",
       "<style scoped>\n",
       "    .dataframe tbody tr th:only-of-type {\n",
       "        vertical-align: middle;\n",
       "    }\n",
       "\n",
       "    .dataframe tbody tr th {\n",
       "        vertical-align: top;\n",
       "    }\n",
       "\n",
       "    .dataframe thead th {\n",
       "        text-align: right;\n",
       "    }\n",
       "</style>\n",
       "<table border=\"1\" class=\"dataframe\">\n",
       "  <thead>\n",
       "    <tr style=\"text-align: right;\">\n",
       "      <th></th>\n",
       "      <th>lat</th>\n",
       "      <th>lng</th>\n",
       "      <th>desc</th>\n",
       "      <th>zip</th>\n",
       "      <th>title</th>\n",
       "      <th>timeStamp</th>\n",
       "      <th>twp</th>\n",
       "      <th>addr</th>\n",
       "      <th>e</th>\n",
       "      <th>divide</th>\n",
       "    </tr>\n",
       "  </thead>\n",
       "  <tbody>\n",
       "    <tr>\n",
       "      <th>289235</th>\n",
       "      <td>40.024967</td>\n",
       "      <td>-75.282905</td>\n",
       "      <td>SCHUYLKILL EXPY &amp; RAMP CITY AVE EB TO I76 WB; ...</td>\n",
       "      <td>NaN</td>\n",
       "      <td>EMS: VEHICLE ACCIDENT</td>\n",
       "      <td>2017-12-30 11:11:36</td>\n",
       "      <td>LOWER MERION</td>\n",
       "      <td>SCHUYLKILL EXPY &amp; RAMP CITY AVE EB TO I76 WB</td>\n",
       "      <td>1</td>\n",
       "      <td>VEHICLE ACCIDENT</td>\n",
       "    </tr>\n",
       "    <tr>\n",
       "      <th>289236</th>\n",
       "      <td>40.024967</td>\n",
       "      <td>-75.282905</td>\n",
       "      <td>SCHUYLKILL EXPY &amp; RAMP CITY AVE EB TO I76 WB; ...</td>\n",
       "      <td>NaN</td>\n",
       "      <td>Fire: VEHICLE ACCIDENT</td>\n",
       "      <td>2017-12-30 11:11:30</td>\n",
       "      <td>LOWER MERION</td>\n",
       "      <td>SCHUYLKILL EXPY &amp; RAMP CITY AVE EB TO I76 WB</td>\n",
       "      <td>1</td>\n",
       "      <td>VEHICLE ACCIDENT</td>\n",
       "    </tr>\n",
       "    <tr>\n",
       "      <th>289237</th>\n",
       "      <td>40.107918</td>\n",
       "      <td>-75.163347</td>\n",
       "      <td>EDGE HILL RD &amp; LIMEKILN PIKE; ABINGTON; 2017-1...</td>\n",
       "      <td>19038.0</td>\n",
       "      <td>Traffic: VEHICLE ACCIDENT -</td>\n",
       "      <td>2017-12-30 11:15:24</td>\n",
       "      <td>ABINGTON</td>\n",
       "      <td>EDGE HILL RD &amp; LIMEKILN PIKE</td>\n",
       "      <td>1</td>\n",
       "      <td>VEHICLE ACCIDENT -</td>\n",
       "    </tr>\n",
       "    <tr>\n",
       "      <th>289238</th>\n",
       "      <td>40.061921</td>\n",
       "      <td>-75.117655</td>\n",
       "      <td>COVENTRY AVE &amp; NEW SECOND ST; CHELTENHAM; 2017...</td>\n",
       "      <td>19027.0</td>\n",
       "      <td>Traffic: DISABLED VEHICLE -</td>\n",
       "      <td>2017-12-30 11:12:03</td>\n",
       "      <td>CHELTENHAM</td>\n",
       "      <td>COVENTRY AVE &amp; NEW SECOND ST</td>\n",
       "      <td>1</td>\n",
       "      <td>DISABLED VEHICLE -</td>\n",
       "    </tr>\n",
       "    <tr>\n",
       "      <th>289239</th>\n",
       "      <td>40.098662</td>\n",
       "      <td>-75.352777</td>\n",
       "      <td>DEKALB PIKE &amp; W BORO LINE RD; UPPER MERION; 20...</td>\n",
       "      <td>19406.0</td>\n",
       "      <td>Traffic: VEHICLE ACCIDENT -</td>\n",
       "      <td>2017-12-30 11:14:31</td>\n",
       "      <td>UPPER MERION</td>\n",
       "      <td>DEKALB PIKE &amp; W BORO LINE RD</td>\n",
       "      <td>1</td>\n",
       "      <td>VEHICLE ACCIDENT -</td>\n",
       "    </tr>\n",
       "  </tbody>\n",
       "</table>\n",
       "</div>"
      ],
      "text/plain": [
       "              lat        lng  \\\n",
       "289235  40.024967 -75.282905   \n",
       "289236  40.024967 -75.282905   \n",
       "289237  40.107918 -75.163347   \n",
       "289238  40.061921 -75.117655   \n",
       "289239  40.098662 -75.352777   \n",
       "\n",
       "                                                     desc      zip  \\\n",
       "289235  SCHUYLKILL EXPY & RAMP CITY AVE EB TO I76 WB; ...      NaN   \n",
       "289236  SCHUYLKILL EXPY & RAMP CITY AVE EB TO I76 WB; ...      NaN   \n",
       "289237  EDGE HILL RD & LIMEKILN PIKE; ABINGTON; 2017-1...  19038.0   \n",
       "289238  COVENTRY AVE & NEW SECOND ST; CHELTENHAM; 2017...  19027.0   \n",
       "289239  DEKALB PIKE & W BORO LINE RD; UPPER MERION; 20...  19406.0   \n",
       "\n",
       "                              title            timeStamp           twp  \\\n",
       "289235        EMS: VEHICLE ACCIDENT  2017-12-30 11:11:36  LOWER MERION   \n",
       "289236       Fire: VEHICLE ACCIDENT  2017-12-30 11:11:30  LOWER MERION   \n",
       "289237  Traffic: VEHICLE ACCIDENT -  2017-12-30 11:15:24      ABINGTON   \n",
       "289238  Traffic: DISABLED VEHICLE -  2017-12-30 11:12:03    CHELTENHAM   \n",
       "289239  Traffic: VEHICLE ACCIDENT -  2017-12-30 11:14:31  UPPER MERION   \n",
       "\n",
       "                                                addr  e               divide  \n",
       "289235  SCHUYLKILL EXPY & RAMP CITY AVE EB TO I76 WB  1     VEHICLE ACCIDENT  \n",
       "289236  SCHUYLKILL EXPY & RAMP CITY AVE EB TO I76 WB  1     VEHICLE ACCIDENT  \n",
       "289237                  EDGE HILL RD & LIMEKILN PIKE  1   VEHICLE ACCIDENT -  \n",
       "289238                  COVENTRY AVE & NEW SECOND ST  1   DISABLED VEHICLE -  \n",
       "289239                  DEKALB PIKE & W BORO LINE RD  1   VEHICLE ACCIDENT -  "
      ]
     },
     "execution_count": 17,
     "metadata": {},
     "output_type": "execute_result"
    }
   ],
   "source": [
    "dataframe.tail()"
   ]
  },
  {
   "cell_type": "code",
   "execution_count": 18,
   "metadata": {},
   "outputs": [
    {
     "data": {
      "text/plain": [
       " VEHICLE ACCIDENT -           68123\n",
       " DISABLED VEHICLE -           20667\n",
       " VEHICLE ACCIDENT             16747\n",
       " FIRE ALARM                   16359\n",
       " RESPIRATORY EMERGENCY        14637\n",
       " FALL VICTIM                  14584\n",
       " CARDIAC EMERGENCY            14491\n",
       " ROAD OBSTRUCTION -            8767\n",
       " SUBJECT IN PAIN               8151\n",
       " HEAD INJURY                   7613\n",
       " UNKNOWN MEDICAL EMERGENCY     5170\n",
       " SYNCOPAL EPISODE              5000\n",
       " SEIZURES                      4808\n",
       " GENERAL WEAKNESS              4619\n",
       " ALTERED MENTAL STATUS         4208\n",
       "Name: divide, dtype: int64"
      ]
     },
     "execution_count": 18,
     "metadata": {},
     "output_type": "execute_result"
    }
   ],
   "source": [
    "dataframe['divide'].value_counts().head(15)"
   ]
  },
  {
   "cell_type": "code",
   "execution_count": 19,
   "metadata": {},
   "outputs": [
    {
     "data": {
      "text/plain": [
       " SUICIDE ATTEMPT        1\n",
       " PUBLIC SERVICE         1\n",
       " PRISONER IN CUSTODY    1\n",
       " ANIMAL COMPLAINT       1\n",
       " HIT + RUN              1\n",
       "Name: divide, dtype: int64"
      ]
     },
     "execution_count": 19,
     "metadata": {},
     "output_type": "execute_result"
    }
   ],
   "source": [
    "dataframe['divide'].value_counts().tail(5)"
   ]
  },
  {
   "cell_type": "code",
   "execution_count": 20,
   "metadata": {},
   "outputs": [
    {
     "data": {
      "text/plain": [
       "89"
      ]
     },
     "execution_count": 20,
     "metadata": {},
     "output_type": "execute_result"
    }
   ],
   "source": [
    "dataframe['divide'].nunique()"
   ]
  },
  {
   "cell_type": "code",
   "execution_count": 21,
   "metadata": {},
   "outputs": [],
   "source": [
    "dataframe[\"emergency\"] = dataframe['title'].apply(lambda title: title.split(':')[0])"
   ]
  },
  {
   "cell_type": "code",
   "execution_count": 22,
   "metadata": {},
   "outputs": [
    {
     "data": {
      "text/html": [
       "<div>\n",
       "<style scoped>\n",
       "    .dataframe tbody tr th:only-of-type {\n",
       "        vertical-align: middle;\n",
       "    }\n",
       "\n",
       "    .dataframe tbody tr th {\n",
       "        vertical-align: top;\n",
       "    }\n",
       "\n",
       "    .dataframe thead th {\n",
       "        text-align: right;\n",
       "    }\n",
       "</style>\n",
       "<table border=\"1\" class=\"dataframe\">\n",
       "  <thead>\n",
       "    <tr style=\"text-align: right;\">\n",
       "      <th></th>\n",
       "      <th>lat</th>\n",
       "      <th>lng</th>\n",
       "      <th>desc</th>\n",
       "      <th>zip</th>\n",
       "      <th>title</th>\n",
       "      <th>timeStamp</th>\n",
       "      <th>twp</th>\n",
       "      <th>addr</th>\n",
       "      <th>e</th>\n",
       "      <th>divide</th>\n",
       "      <th>emergency</th>\n",
       "    </tr>\n",
       "  </thead>\n",
       "  <tbody>\n",
       "    <tr>\n",
       "      <th>0</th>\n",
       "      <td>40.297876</td>\n",
       "      <td>-75.581294</td>\n",
       "      <td>REINDEER CT &amp; DEAD END;  NEW HANOVER; Station ...</td>\n",
       "      <td>19525.0</td>\n",
       "      <td>EMS: BACK PAINS/INJURY</td>\n",
       "      <td>2015-12-10 17:10:52</td>\n",
       "      <td>NEW HANOVER</td>\n",
       "      <td>REINDEER CT &amp; DEAD END</td>\n",
       "      <td>1</td>\n",
       "      <td>BACK PAINS/INJURY</td>\n",
       "      <td>EMS</td>\n",
       "    </tr>\n",
       "    <tr>\n",
       "      <th>1</th>\n",
       "      <td>40.258061</td>\n",
       "      <td>-75.264680</td>\n",
       "      <td>BRIAR PATH &amp; WHITEMARSH LN;  HATFIELD TOWNSHIP...</td>\n",
       "      <td>19446.0</td>\n",
       "      <td>EMS: DIABETIC EMERGENCY</td>\n",
       "      <td>2015-12-10 17:29:21</td>\n",
       "      <td>HATFIELD TOWNSHIP</td>\n",
       "      <td>BRIAR PATH &amp; WHITEMARSH LN</td>\n",
       "      <td>1</td>\n",
       "      <td>DIABETIC EMERGENCY</td>\n",
       "      <td>EMS</td>\n",
       "    </tr>\n",
       "    <tr>\n",
       "      <th>2</th>\n",
       "      <td>40.121182</td>\n",
       "      <td>-75.351975</td>\n",
       "      <td>HAWS AVE; NORRISTOWN; 2015-12-10 @ 14:39:21-St...</td>\n",
       "      <td>19401.0</td>\n",
       "      <td>Fire: GAS-ODOR/LEAK</td>\n",
       "      <td>2015-12-10 14:39:21</td>\n",
       "      <td>NORRISTOWN</td>\n",
       "      <td>HAWS AVE</td>\n",
       "      <td>1</td>\n",
       "      <td>GAS-ODOR/LEAK</td>\n",
       "      <td>Fire</td>\n",
       "    </tr>\n",
       "    <tr>\n",
       "      <th>3</th>\n",
       "      <td>40.116153</td>\n",
       "      <td>-75.343513</td>\n",
       "      <td>AIRY ST &amp; SWEDE ST;  NORRISTOWN; Station 308A;...</td>\n",
       "      <td>19401.0</td>\n",
       "      <td>EMS: CARDIAC EMERGENCY</td>\n",
       "      <td>2015-12-10 16:47:36</td>\n",
       "      <td>NORRISTOWN</td>\n",
       "      <td>AIRY ST &amp; SWEDE ST</td>\n",
       "      <td>1</td>\n",
       "      <td>CARDIAC EMERGENCY</td>\n",
       "      <td>EMS</td>\n",
       "    </tr>\n",
       "    <tr>\n",
       "      <th>4</th>\n",
       "      <td>40.251492</td>\n",
       "      <td>-75.603350</td>\n",
       "      <td>CHERRYWOOD CT &amp; DEAD END;  LOWER POTTSGROVE; S...</td>\n",
       "      <td>NaN</td>\n",
       "      <td>EMS: DIZZINESS</td>\n",
       "      <td>2015-12-10 16:56:52</td>\n",
       "      <td>LOWER POTTSGROVE</td>\n",
       "      <td>CHERRYWOOD CT &amp; DEAD END</td>\n",
       "      <td>1</td>\n",
       "      <td>DIZZINESS</td>\n",
       "      <td>EMS</td>\n",
       "    </tr>\n",
       "  </tbody>\n",
       "</table>\n",
       "</div>"
      ],
      "text/plain": [
       "         lat        lng                                               desc  \\\n",
       "0  40.297876 -75.581294  REINDEER CT & DEAD END;  NEW HANOVER; Station ...   \n",
       "1  40.258061 -75.264680  BRIAR PATH & WHITEMARSH LN;  HATFIELD TOWNSHIP...   \n",
       "2  40.121182 -75.351975  HAWS AVE; NORRISTOWN; 2015-12-10 @ 14:39:21-St...   \n",
       "3  40.116153 -75.343513  AIRY ST & SWEDE ST;  NORRISTOWN; Station 308A;...   \n",
       "4  40.251492 -75.603350  CHERRYWOOD CT & DEAD END;  LOWER POTTSGROVE; S...   \n",
       "\n",
       "       zip                    title            timeStamp                twp  \\\n",
       "0  19525.0   EMS: BACK PAINS/INJURY  2015-12-10 17:10:52        NEW HANOVER   \n",
       "1  19446.0  EMS: DIABETIC EMERGENCY  2015-12-10 17:29:21  HATFIELD TOWNSHIP   \n",
       "2  19401.0      Fire: GAS-ODOR/LEAK  2015-12-10 14:39:21         NORRISTOWN   \n",
       "3  19401.0   EMS: CARDIAC EMERGENCY  2015-12-10 16:47:36         NORRISTOWN   \n",
       "4      NaN           EMS: DIZZINESS  2015-12-10 16:56:52   LOWER POTTSGROVE   \n",
       "\n",
       "                         addr  e               divide emergency  \n",
       "0      REINDEER CT & DEAD END  1    BACK PAINS/INJURY       EMS  \n",
       "1  BRIAR PATH & WHITEMARSH LN  1   DIABETIC EMERGENCY       EMS  \n",
       "2                    HAWS AVE  1        GAS-ODOR/LEAK      Fire  \n",
       "3          AIRY ST & SWEDE ST  1    CARDIAC EMERGENCY       EMS  \n",
       "4    CHERRYWOOD CT & DEAD END  1            DIZZINESS       EMS  "
      ]
     },
     "execution_count": 22,
     "metadata": {},
     "output_type": "execute_result"
    }
   ],
   "source": [
    "dataframe.head()"
   ]
  },
  {
   "cell_type": "code",
   "execution_count": 23,
   "metadata": {},
   "outputs": [
    {
     "data": {
      "text/html": [
       "<div>\n",
       "<style scoped>\n",
       "    .dataframe tbody tr th:only-of-type {\n",
       "        vertical-align: middle;\n",
       "    }\n",
       "\n",
       "    .dataframe tbody tr th {\n",
       "        vertical-align: top;\n",
       "    }\n",
       "\n",
       "    .dataframe thead th {\n",
       "        text-align: right;\n",
       "    }\n",
       "</style>\n",
       "<table border=\"1\" class=\"dataframe\">\n",
       "  <thead>\n",
       "    <tr style=\"text-align: right;\">\n",
       "      <th></th>\n",
       "      <th>lat</th>\n",
       "      <th>lng</th>\n",
       "      <th>desc</th>\n",
       "      <th>zip</th>\n",
       "      <th>title</th>\n",
       "      <th>timeStamp</th>\n",
       "      <th>twp</th>\n",
       "      <th>addr</th>\n",
       "      <th>e</th>\n",
       "      <th>divide</th>\n",
       "      <th>emergency</th>\n",
       "    </tr>\n",
       "  </thead>\n",
       "  <tbody>\n",
       "    <tr>\n",
       "      <th>289235</th>\n",
       "      <td>40.024967</td>\n",
       "      <td>-75.282905</td>\n",
       "      <td>SCHUYLKILL EXPY &amp; RAMP CITY AVE EB TO I76 WB; ...</td>\n",
       "      <td>NaN</td>\n",
       "      <td>EMS: VEHICLE ACCIDENT</td>\n",
       "      <td>2017-12-30 11:11:36</td>\n",
       "      <td>LOWER MERION</td>\n",
       "      <td>SCHUYLKILL EXPY &amp; RAMP CITY AVE EB TO I76 WB</td>\n",
       "      <td>1</td>\n",
       "      <td>VEHICLE ACCIDENT</td>\n",
       "      <td>EMS</td>\n",
       "    </tr>\n",
       "    <tr>\n",
       "      <th>289236</th>\n",
       "      <td>40.024967</td>\n",
       "      <td>-75.282905</td>\n",
       "      <td>SCHUYLKILL EXPY &amp; RAMP CITY AVE EB TO I76 WB; ...</td>\n",
       "      <td>NaN</td>\n",
       "      <td>Fire: VEHICLE ACCIDENT</td>\n",
       "      <td>2017-12-30 11:11:30</td>\n",
       "      <td>LOWER MERION</td>\n",
       "      <td>SCHUYLKILL EXPY &amp; RAMP CITY AVE EB TO I76 WB</td>\n",
       "      <td>1</td>\n",
       "      <td>VEHICLE ACCIDENT</td>\n",
       "      <td>Fire</td>\n",
       "    </tr>\n",
       "    <tr>\n",
       "      <th>289237</th>\n",
       "      <td>40.107918</td>\n",
       "      <td>-75.163347</td>\n",
       "      <td>EDGE HILL RD &amp; LIMEKILN PIKE; ABINGTON; 2017-1...</td>\n",
       "      <td>19038.0</td>\n",
       "      <td>Traffic: VEHICLE ACCIDENT -</td>\n",
       "      <td>2017-12-30 11:15:24</td>\n",
       "      <td>ABINGTON</td>\n",
       "      <td>EDGE HILL RD &amp; LIMEKILN PIKE</td>\n",
       "      <td>1</td>\n",
       "      <td>VEHICLE ACCIDENT -</td>\n",
       "      <td>Traffic</td>\n",
       "    </tr>\n",
       "    <tr>\n",
       "      <th>289238</th>\n",
       "      <td>40.061921</td>\n",
       "      <td>-75.117655</td>\n",
       "      <td>COVENTRY AVE &amp; NEW SECOND ST; CHELTENHAM; 2017...</td>\n",
       "      <td>19027.0</td>\n",
       "      <td>Traffic: DISABLED VEHICLE -</td>\n",
       "      <td>2017-12-30 11:12:03</td>\n",
       "      <td>CHELTENHAM</td>\n",
       "      <td>COVENTRY AVE &amp; NEW SECOND ST</td>\n",
       "      <td>1</td>\n",
       "      <td>DISABLED VEHICLE -</td>\n",
       "      <td>Traffic</td>\n",
       "    </tr>\n",
       "    <tr>\n",
       "      <th>289239</th>\n",
       "      <td>40.098662</td>\n",
       "      <td>-75.352777</td>\n",
       "      <td>DEKALB PIKE &amp; W BORO LINE RD; UPPER MERION; 20...</td>\n",
       "      <td>19406.0</td>\n",
       "      <td>Traffic: VEHICLE ACCIDENT -</td>\n",
       "      <td>2017-12-30 11:14:31</td>\n",
       "      <td>UPPER MERION</td>\n",
       "      <td>DEKALB PIKE &amp; W BORO LINE RD</td>\n",
       "      <td>1</td>\n",
       "      <td>VEHICLE ACCIDENT -</td>\n",
       "      <td>Traffic</td>\n",
       "    </tr>\n",
       "  </tbody>\n",
       "</table>\n",
       "</div>"
      ],
      "text/plain": [
       "              lat        lng  \\\n",
       "289235  40.024967 -75.282905   \n",
       "289236  40.024967 -75.282905   \n",
       "289237  40.107918 -75.163347   \n",
       "289238  40.061921 -75.117655   \n",
       "289239  40.098662 -75.352777   \n",
       "\n",
       "                                                     desc      zip  \\\n",
       "289235  SCHUYLKILL EXPY & RAMP CITY AVE EB TO I76 WB; ...      NaN   \n",
       "289236  SCHUYLKILL EXPY & RAMP CITY AVE EB TO I76 WB; ...      NaN   \n",
       "289237  EDGE HILL RD & LIMEKILN PIKE; ABINGTON; 2017-1...  19038.0   \n",
       "289238  COVENTRY AVE & NEW SECOND ST; CHELTENHAM; 2017...  19027.0   \n",
       "289239  DEKALB PIKE & W BORO LINE RD; UPPER MERION; 20...  19406.0   \n",
       "\n",
       "                              title            timeStamp           twp  \\\n",
       "289235        EMS: VEHICLE ACCIDENT  2017-12-30 11:11:36  LOWER MERION   \n",
       "289236       Fire: VEHICLE ACCIDENT  2017-12-30 11:11:30  LOWER MERION   \n",
       "289237  Traffic: VEHICLE ACCIDENT -  2017-12-30 11:15:24      ABINGTON   \n",
       "289238  Traffic: DISABLED VEHICLE -  2017-12-30 11:12:03    CHELTENHAM   \n",
       "289239  Traffic: VEHICLE ACCIDENT -  2017-12-30 11:14:31  UPPER MERION   \n",
       "\n",
       "                                                addr  e               divide  \\\n",
       "289235  SCHUYLKILL EXPY & RAMP CITY AVE EB TO I76 WB  1     VEHICLE ACCIDENT   \n",
       "289236  SCHUYLKILL EXPY & RAMP CITY AVE EB TO I76 WB  1     VEHICLE ACCIDENT   \n",
       "289237                  EDGE HILL RD & LIMEKILN PIKE  1   VEHICLE ACCIDENT -   \n",
       "289238                  COVENTRY AVE & NEW SECOND ST  1   DISABLED VEHICLE -   \n",
       "289239                  DEKALB PIKE & W BORO LINE RD  1   VEHICLE ACCIDENT -   \n",
       "\n",
       "       emergency  \n",
       "289235       EMS  \n",
       "289236      Fire  \n",
       "289237   Traffic  \n",
       "289238   Traffic  \n",
       "289239   Traffic  "
      ]
     },
     "execution_count": 23,
     "metadata": {},
     "output_type": "execute_result"
    }
   ],
   "source": [
    "dataframe.tail()"
   ]
  },
  {
   "cell_type": "code",
   "execution_count": 24,
   "metadata": {},
   "outputs": [
    {
     "data": {
      "text/plain": [
       "EMS        144362\n",
       "Traffic    101889\n",
       "Fire        42989\n",
       "Name: emergency, dtype: int64"
      ]
     },
     "execution_count": 24,
     "metadata": {},
     "output_type": "execute_result"
    }
   ],
   "source": [
    "dataframe['emergency'].value_counts().head()"
   ]
  },
  {
   "cell_type": "code",
   "execution_count": 25,
   "metadata": {},
   "outputs": [
    {
     "data": {
      "text/plain": [
       "EMS        144362\n",
       "Traffic    101889\n",
       "Fire        42989\n",
       "Name: emergency, dtype: int64"
      ]
     },
     "execution_count": 25,
     "metadata": {},
     "output_type": "execute_result"
    }
   ],
   "source": [
    "dataframe['emergency'].value_counts().tail()"
   ]
  },
  {
   "cell_type": "code",
   "execution_count": 26,
   "metadata": {},
   "outputs": [
    {
     "data": {
      "text/plain": [
       "<AxesSubplot:xlabel='emergency', ylabel='count'>"
      ]
     },
     "execution_count": 26,
     "metadata": {},
     "output_type": "execute_result"
    },
    {
     "data": {
      "image/png": "[encoded data removed]",
      "text/plain": [
       "<Figure size 432x288 with 1 Axes>"
      ]
     },
     "metadata": {
      "needs_background": "light"
     },
     "output_type": "display_data"
    }
   ],
   "source": [
    "sns.countplot(x='emergency',data=dataframe)"
   ]
  },
  {
   "cell_type": "code",
   "execution_count": 27,
   "metadata": {},
   "outputs": [
    {
     "data": {
      "text/plain": [
       "<AxesSubplot:xlabel='divide', ylabel='count'>"
      ]
     },
     "execution_count": 27,
     "metadata": {},
     "output_type": "execute_result"
    },
    {
     "data": {
      "image/png": "[encoded data removed]",
      "text/plain": [
       "<Figure size 432x288 with 1 Axes>"
      ]
     },
     "metadata": {
      "needs_background": "light"
     },
     "output_type": "display_data"
    }
   ],
   "source": [
    "sns.countplot(x='divide',data=dataframe)"
   ]
  },
  {
   "cell_type": "code",
   "execution_count": 28,
   "metadata": {},
   "outputs": [],
   "source": [
    "dataframe['timeStamp'] = pd.to_datetime(dataframe['timeStamp'])"
   ]
  },
  {
   "cell_type": "code",
   "execution_count": 29,
   "metadata": {},
   "outputs": [
    {
     "name": "stdout",
     "output_type": "stream",
     "text": [
      "<class 'pandas.core.frame.DataFrame'>\n",
      "RangeIndex: 289240 entries, 0 to 289239\n",
      "Data columns (total 11 columns):\n",
      " #   Column     Non-Null Count   Dtype         \n",
      "---  ------     --------------   -----         \n",
      " 0   lat        289240 non-null  float64       \n",
      " 1   lng        289240 non-null  float64       \n",
      " 2   desc       289240 non-null  object        \n",
      " 3   zip        253942 non-null  float64       \n",
      " 4   title      289240 non-null  object        \n",
      " 5   timeStamp  289240 non-null  datetime64[ns]\n",
      " 6   twp        289137 non-null  object        \n",
      " 7   addr       289240 non-null  object        \n",
      " 8   e          289240 non-null  int64         \n",
      " 9   divide     289240 non-null  object        \n",
      " 10  emergency  289240 non-null  object        \n",
      "dtypes: datetime64[ns](1), float64(3), int64(1), object(6)\n",
      "memory usage: 24.3+ MB\n"
     ]
    }
   ],
   "source": [
    "dataframe.info()"
   ]
  },
  {
   "cell_type": "code",
   "execution_count": 30,
   "metadata": {},
   "outputs": [],
   "source": [
    "dataframe['Hour'] = dataframe['timeStamp'].apply(lambda time:time.hour)"
   ]
  },
  {
   "cell_type": "code",
   "execution_count": 31,
   "metadata": {},
   "outputs": [
    {
     "data": {
      "text/html": [
       "<div>\n",
       "<style scoped>\n",
       "    .dataframe tbody tr th:only-of-type {\n",
       "        vertical-align: middle;\n",
       "    }\n",
       "\n",
       "    .dataframe tbody tr th {\n",
       "        vertical-align: top;\n",
       "    }\n",
       "\n",
       "    .dataframe thead th {\n",
       "        text-align: right;\n",
       "    }\n",
       "</style>\n",
       "<table border=\"1\" class=\"dataframe\">\n",
       "  <thead>\n",
       "    <tr style=\"text-align: right;\">\n",
       "      <th></th>\n",
       "      <th>lat</th>\n",
       "      <th>lng</th>\n",
       "      <th>desc</th>\n",
       "      <th>zip</th>\n",
       "      <th>title</th>\n",
       "      <th>timeStamp</th>\n",
       "      <th>twp</th>\n",
       "      <th>addr</th>\n",
       "      <th>e</th>\n",
       "      <th>divide</th>\n",
       "      <th>emergency</th>\n",
       "      <th>Hour</th>\n",
       "    </tr>\n",
       "  </thead>\n",
       "  <tbody>\n",
       "    <tr>\n",
       "      <th>0</th>\n",
       "      <td>40.297876</td>\n",
       "      <td>-75.581294</td>\n",
       "      <td>REINDEER CT &amp; DEAD END;  NEW HANOVER; Station ...</td>\n",
       "      <td>19525.0</td>\n",
       "      <td>EMS: BACK PAINS/INJURY</td>\n",
       "      <td>2015-12-10 17:10:52</td>\n",
       "      <td>NEW HANOVER</td>\n",
       "      <td>REINDEER CT &amp; DEAD END</td>\n",
       "      <td>1</td>\n",
       "      <td>BACK PAINS/INJURY</td>\n",
       "      <td>EMS</td>\n",
       "      <td>17</td>\n",
       "    </tr>\n",
       "    <tr>\n",
       "      <th>1</th>\n",
       "      <td>40.258061</td>\n",
       "      <td>-75.264680</td>\n",
       "      <td>BRIAR PATH &amp; WHITEMARSH LN;  HATFIELD TOWNSHIP...</td>\n",
       "      <td>19446.0</td>\n",
       "      <td>EMS: DIABETIC EMERGENCY</td>\n",
       "      <td>2015-12-10 17:29:21</td>\n",
       "      <td>HATFIELD TOWNSHIP</td>\n",
       "      <td>BRIAR PATH &amp; WHITEMARSH LN</td>\n",
       "      <td>1</td>\n",
       "      <td>DIABETIC EMERGENCY</td>\n",
       "      <td>EMS</td>\n",
       "      <td>17</td>\n",
       "    </tr>\n",
       "    <tr>\n",
       "      <th>2</th>\n",
       "      <td>40.121182</td>\n",
       "      <td>-75.351975</td>\n",
       "      <td>HAWS AVE; NORRISTOWN; 2015-12-10 @ 14:39:21-St...</td>\n",
       "      <td>19401.0</td>\n",
       "      <td>Fire: GAS-ODOR/LEAK</td>\n",
       "      <td>2015-12-10 14:39:21</td>\n",
       "      <td>NORRISTOWN</td>\n",
       "      <td>HAWS AVE</td>\n",
       "      <td>1</td>\n",
       "      <td>GAS-ODOR/LEAK</td>\n",
       "      <td>Fire</td>\n",
       "      <td>14</td>\n",
       "    </tr>\n",
       "    <tr>\n",
       "      <th>3</th>\n",
       "      <td>40.116153</td>\n",
       "      <td>-75.343513</td>\n",
       "      <td>AIRY ST &amp; SWEDE ST;  NORRISTOWN; Station 308A;...</td>\n",
       "      <td>19401.0</td>\n",
       "      <td>EMS: CARDIAC EMERGENCY</td>\n",
       "      <td>2015-12-10 16:47:36</td>\n",
       "      <td>NORRISTOWN</td>\n",
       "      <td>AIRY ST &amp; SWEDE ST</td>\n",
       "      <td>1</td>\n",
       "      <td>CARDIAC EMERGENCY</td>\n",
       "      <td>EMS</td>\n",
       "      <td>16</td>\n",
       "    </tr>\n",
       "    <tr>\n",
       "      <th>4</th>\n",
       "      <td>40.251492</td>\n",
       "      <td>-75.603350</td>\n",
       "      <td>CHERRYWOOD CT &amp; DEAD END;  LOWER POTTSGROVE; S...</td>\n",
       "      <td>NaN</td>\n",
       "      <td>EMS: DIZZINESS</td>\n",
       "      <td>2015-12-10 16:56:52</td>\n",
       "      <td>LOWER POTTSGROVE</td>\n",
       "      <td>CHERRYWOOD CT &amp; DEAD END</td>\n",
       "      <td>1</td>\n",
       "      <td>DIZZINESS</td>\n",
       "      <td>EMS</td>\n",
       "      <td>16</td>\n",
       "    </tr>\n",
       "  </tbody>\n",
       "</table>\n",
       "</div>"
      ],
      "text/plain": [
       "         lat        lng                                               desc  \\\n",
       "0  40.297876 -75.581294  REINDEER CT & DEAD END;  NEW HANOVER; Station ...   \n",
       "1  40.258061 -75.264680  BRIAR PATH & WHITEMARSH LN;  HATFIELD TOWNSHIP...   \n",
       "2  40.121182 -75.351975  HAWS AVE; NORRISTOWN; 2015-12-10 @ 14:39:21-St...   \n",
       "3  40.116153 -75.343513  AIRY ST & SWEDE ST;  NORRISTOWN; Station 308A;...   \n",
       "4  40.251492 -75.603350  CHERRYWOOD CT & DEAD END;  LOWER POTTSGROVE; S...   \n",
       "\n",
       "       zip                    title           timeStamp                twp  \\\n",
       "0  19525.0   EMS: BACK PAINS/INJURY 2015-12-10 17:10:52        NEW HANOVER   \n",
       "1  19446.0  EMS: DIABETIC EMERGENCY 2015-12-10 17:29:21  HATFIELD TOWNSHIP   \n",
       "2  19401.0      Fire: GAS-ODOR/LEAK 2015-12-10 14:39:21         NORRISTOWN   \n",
       "3  19401.0   EMS: CARDIAC EMERGENCY 2015-12-10 16:47:36         NORRISTOWN   \n",
       "4      NaN           EMS: DIZZINESS 2015-12-10 16:56:52   LOWER POTTSGROVE   \n",
       "\n",
       "                         addr  e               divide emergency  Hour  \n",
       "0      REINDEER CT & DEAD END  1    BACK PAINS/INJURY       EMS    17  \n",
       "1  BRIAR PATH & WHITEMARSH LN  1   DIABETIC EMERGENCY       EMS    17  \n",
       "2                    HAWS AVE  1        GAS-ODOR/LEAK      Fire    14  \n",
       "3          AIRY ST & SWEDE ST  1    CARDIAC EMERGENCY       EMS    16  \n",
       "4    CHERRYWOOD CT & DEAD END  1            DIZZINESS       EMS    16  "
      ]
     },
     "execution_count": 31,
     "metadata": {},
     "output_type": "execute_result"
    }
   ],
   "source": [
    "dataframe.head()"
   ]
  },
  {
   "cell_type": "code",
   "execution_count": 32,
   "metadata": {},
   "outputs": [
    {
     "data": {
      "text/html": [
       "<div>\n",
       "<style scoped>\n",
       "    .dataframe tbody tr th:only-of-type {\n",
       "        vertical-align: middle;\n",
       "    }\n",
       "\n",
       "    .dataframe tbody tr th {\n",
       "        vertical-align: top;\n",
       "    }\n",
       "\n",
       "    .dataframe thead th {\n",
       "        text-align: right;\n",
       "    }\n",
       "</style>\n",
       "<table border=\"1\" class=\"dataframe\">\n",
       "  <thead>\n",
       "    <tr style=\"text-align: right;\">\n",
       "      <th></th>\n",
       "      <th>lat</th>\n",
       "      <th>lng</th>\n",
       "      <th>desc</th>\n",
       "      <th>zip</th>\n",
       "      <th>title</th>\n",
       "      <th>timeStamp</th>\n",
       "      <th>twp</th>\n",
       "      <th>addr</th>\n",
       "      <th>e</th>\n",
       "      <th>divide</th>\n",
       "      <th>emergency</th>\n",
       "      <th>Hour</th>\n",
       "    </tr>\n",
       "  </thead>\n",
       "  <tbody>\n",
       "    <tr>\n",
       "      <th>289235</th>\n",
       "      <td>40.024967</td>\n",
       "      <td>-75.282905</td>\n",
       "      <td>SCHUYLKILL EXPY &amp; RAMP CITY AVE EB TO I76 WB; ...</td>\n",
       "      <td>NaN</td>\n",
       "      <td>EMS: VEHICLE ACCIDENT</td>\n",
       "      <td>2017-12-30 11:11:36</td>\n",
       "      <td>LOWER MERION</td>\n",
       "      <td>SCHUYLKILL EXPY &amp; RAMP CITY AVE EB TO I76 WB</td>\n",
       "      <td>1</td>\n",
       "      <td>VEHICLE ACCIDENT</td>\n",
       "      <td>EMS</td>\n",
       "      <td>11</td>\n",
       "    </tr>\n",
       "    <tr>\n",
       "      <th>289236</th>\n",
       "      <td>40.024967</td>\n",
       "      <td>-75.282905</td>\n",
       "      <td>SCHUYLKILL EXPY &amp; RAMP CITY AVE EB TO I76 WB; ...</td>\n",
       "      <td>NaN</td>\n",
       "      <td>Fire: VEHICLE ACCIDENT</td>\n",
       "      <td>2017-12-30 11:11:30</td>\n",
       "      <td>LOWER MERION</td>\n",
       "      <td>SCHUYLKILL EXPY &amp; RAMP CITY AVE EB TO I76 WB</td>\n",
       "      <td>1</td>\n",
       "      <td>VEHICLE ACCIDENT</td>\n",
       "      <td>Fire</td>\n",
       "      <td>11</td>\n",
       "    </tr>\n",
       "    <tr>\n",
       "      <th>289237</th>\n",
       "      <td>40.107918</td>\n",
       "      <td>-75.163347</td>\n",
       "      <td>EDGE HILL RD &amp; LIMEKILN PIKE; ABINGTON; 2017-1...</td>\n",
       "      <td>19038.0</td>\n",
       "      <td>Traffic: VEHICLE ACCIDENT -</td>\n",
       "      <td>2017-12-30 11:15:24</td>\n",
       "      <td>ABINGTON</td>\n",
       "      <td>EDGE HILL RD &amp; LIMEKILN PIKE</td>\n",
       "      <td>1</td>\n",
       "      <td>VEHICLE ACCIDENT -</td>\n",
       "      <td>Traffic</td>\n",
       "      <td>11</td>\n",
       "    </tr>\n",
       "    <tr>\n",
       "      <th>289238</th>\n",
       "      <td>40.061921</td>\n",
       "      <td>-75.117655</td>\n",
       "      <td>COVENTRY AVE &amp; NEW SECOND ST; CHELTENHAM; 2017...</td>\n",
       "      <td>19027.0</td>\n",
       "      <td>Traffic: DISABLED VEHICLE -</td>\n",
       "      <td>2017-12-30 11:12:03</td>\n",
       "      <td>CHELTENHAM</td>\n",
       "      <td>COVENTRY AVE &amp; NEW SECOND ST</td>\n",
       "      <td>1</td>\n",
       "      <td>DISABLED VEHICLE -</td>\n",
       "      <td>Traffic</td>\n",
       "      <td>11</td>\n",
       "    </tr>\n",
       "    <tr>\n",
       "      <th>289239</th>\n",
       "      <td>40.098662</td>\n",
       "      <td>-75.352777</td>\n",
       "      <td>DEKALB PIKE &amp; W BORO LINE RD; UPPER MERION; 20...</td>\n",
       "      <td>19406.0</td>\n",
       "      <td>Traffic: VEHICLE ACCIDENT -</td>\n",
       "      <td>2017-12-30 11:14:31</td>\n",
       "      <td>UPPER MERION</td>\n",
       "      <td>DEKALB PIKE &amp; W BORO LINE RD</td>\n",
       "      <td>1</td>\n",
       "      <td>VEHICLE ACCIDENT -</td>\n",
       "      <td>Traffic</td>\n",
       "      <td>11</td>\n",
       "    </tr>\n",
       "  </tbody>\n",
       "</table>\n",
       "</div>"
      ],
      "text/plain": [
       "              lat        lng  \\\n",
       "289235  40.024967 -75.282905   \n",
       "289236  40.024967 -75.282905   \n",
       "289237  40.107918 -75.163347   \n",
       "289238  40.061921 -75.117655   \n",
       "289239  40.098662 -75.352777   \n",
       "\n",
       "                                                     desc      zip  \\\n",
       "289235  SCHUYLKILL EXPY & RAMP CITY AVE EB TO I76 WB; ...      NaN   \n",
       "289236  SCHUYLKILL EXPY & RAMP CITY AVE EB TO I76 WB; ...      NaN   \n",
       "289237  EDGE HILL RD & LIMEKILN PIKE; ABINGTON; 2017-1...  19038.0   \n",
       "289238  COVENTRY AVE & NEW SECOND ST; CHELTENHAM; 2017...  19027.0   \n",
       "289239  DEKALB PIKE & W BORO LINE RD; UPPER MERION; 20...  19406.0   \n",
       "\n",
       "                              title           timeStamp           twp  \\\n",
       "289235        EMS: VEHICLE ACCIDENT 2017-12-30 11:11:36  LOWER MERION   \n",
       "289236       Fire: VEHICLE ACCIDENT 2017-12-30 11:11:30  LOWER MERION   \n",
       "289237  Traffic: VEHICLE ACCIDENT - 2017-12-30 11:15:24      ABINGTON   \n",
       "289238  Traffic: DISABLED VEHICLE - 2017-12-30 11:12:03    CHELTENHAM   \n",
       "289239  Traffic: VEHICLE ACCIDENT - 2017-12-30 11:14:31  UPPER MERION   \n",
       "\n",
       "                                                addr  e               divide  \\\n",
       "289235  SCHUYLKILL EXPY & RAMP CITY AVE EB TO I76 WB  1     VEHICLE ACCIDENT   \n",
       "289236  SCHUYLKILL EXPY & RAMP CITY AVE EB TO I76 WB  1     VEHICLE ACCIDENT   \n",
       "289237                  EDGE HILL RD & LIMEKILN PIKE  1   VEHICLE ACCIDENT -   \n",
       "289238                  COVENTRY AVE & NEW SECOND ST  1   DISABLED VEHICLE -   \n",
       "289239                  DEKALB PIKE & W BORO LINE RD  1   VEHICLE ACCIDENT -   \n",
       "\n",
       "       emergency  Hour  \n",
       "289235       EMS    11  \n",
       "289236      Fire    11  \n",
       "289237   Traffic    11  \n",
       "289238   Traffic    11  \n",
       "289239   Traffic    11  "
      ]
     },
     "execution_count": 32,
     "metadata": {},
     "output_type": "execute_result"
    }
   ],
   "source": [
    "dataframe.tail()"
   ]
  },
  {
   "cell_type": "code",
   "execution_count": 33,
   "metadata": {},
   "outputs": [],
   "source": [
    "dataframe['month'] = dataframe['timeStamp'].apply(lambda time:time.month)"
   ]
  },
  {
   "cell_type": "code",
   "execution_count": 34,
   "metadata": {},
   "outputs": [
    {
     "data": {
      "text/html": [
       "<div>\n",
       "<style scoped>\n",
       "    .dataframe tbody tr th:only-of-type {\n",
       "        vertical-align: middle;\n",
       "    }\n",
       "\n",
       "    .dataframe tbody tr th {\n",
       "        vertical-align: top;\n",
       "    }\n",
       "\n",
       "    .dataframe thead th {\n",
       "        text-align: right;\n",
       "    }\n",
       "</style>\n",
       "<table border=\"1\" class=\"dataframe\">\n",
       "  <thead>\n",
       "    <tr style=\"text-align: right;\">\n",
       "      <th></th>\n",
       "      <th>lat</th>\n",
       "      <th>lng</th>\n",
       "      <th>desc</th>\n",
       "      <th>zip</th>\n",
       "      <th>title</th>\n",
       "      <th>timeStamp</th>\n",
       "      <th>twp</th>\n",
       "      <th>addr</th>\n",
       "      <th>e</th>\n",
       "      <th>divide</th>\n",
       "      <th>emergency</th>\n",
       "      <th>Hour</th>\n",
       "      <th>month</th>\n",
       "    </tr>\n",
       "  </thead>\n",
       "  <tbody>\n",
       "    <tr>\n",
       "      <th>0</th>\n",
       "      <td>40.297876</td>\n",
       "      <td>-75.581294</td>\n",
       "      <td>REINDEER CT &amp; DEAD END;  NEW HANOVER; Station ...</td>\n",
       "      <td>19525.0</td>\n",
       "      <td>EMS: BACK PAINS/INJURY</td>\n",
       "      <td>2015-12-10 17:10:52</td>\n",
       "      <td>NEW HANOVER</td>\n",
       "      <td>REINDEER CT &amp; DEAD END</td>\n",
       "      <td>1</td>\n",
       "      <td>BACK PAINS/INJURY</td>\n",
       "      <td>EMS</td>\n",
       "      <td>17</td>\n",
       "      <td>12</td>\n",
       "    </tr>\n",
       "    <tr>\n",
       "      <th>1</th>\n",
       "      <td>40.258061</td>\n",
       "      <td>-75.264680</td>\n",
       "      <td>BRIAR PATH &amp; WHITEMARSH LN;  HATFIELD TOWNSHIP...</td>\n",
       "      <td>19446.0</td>\n",
       "      <td>EMS: DIABETIC EMERGENCY</td>\n",
       "      <td>2015-12-10 17:29:21</td>\n",
       "      <td>HATFIELD TOWNSHIP</td>\n",
       "      <td>BRIAR PATH &amp; WHITEMARSH LN</td>\n",
       "      <td>1</td>\n",
       "      <td>DIABETIC EMERGENCY</td>\n",
       "      <td>EMS</td>\n",
       "      <td>17</td>\n",
       "      <td>12</td>\n",
       "    </tr>\n",
       "    <tr>\n",
       "      <th>2</th>\n",
       "      <td>40.121182</td>\n",
       "      <td>-75.351975</td>\n",
       "      <td>HAWS AVE; NORRISTOWN; 2015-12-10 @ 14:39:21-St...</td>\n",
       "      <td>19401.0</td>\n",
       "      <td>Fire: GAS-ODOR/LEAK</td>\n",
       "      <td>2015-12-10 14:39:21</td>\n",
       "      <td>NORRISTOWN</td>\n",
       "      <td>HAWS AVE</td>\n",
       "      <td>1</td>\n",
       "      <td>GAS-ODOR/LEAK</td>\n",
       "      <td>Fire</td>\n",
       "      <td>14</td>\n",
       "      <td>12</td>\n",
       "    </tr>\n",
       "    <tr>\n",
       "      <th>3</th>\n",
       "      <td>40.116153</td>\n",
       "      <td>-75.343513</td>\n",
       "      <td>AIRY ST &amp; SWEDE ST;  NORRISTOWN; Station 308A;...</td>\n",
       "      <td>19401.0</td>\n",
       "      <td>EMS: CARDIAC EMERGENCY</td>\n",
       "      <td>2015-12-10 16:47:36</td>\n",
       "      <td>NORRISTOWN</td>\n",
       "      <td>AIRY ST &amp; SWEDE ST</td>\n",
       "      <td>1</td>\n",
       "      <td>CARDIAC EMERGENCY</td>\n",
       "      <td>EMS</td>\n",
       "      <td>16</td>\n",
       "      <td>12</td>\n",
       "    </tr>\n",
       "    <tr>\n",
       "      <th>4</th>\n",
       "      <td>40.251492</td>\n",
       "      <td>-75.603350</td>\n",
       "      <td>CHERRYWOOD CT &amp; DEAD END;  LOWER POTTSGROVE; S...</td>\n",
       "      <td>NaN</td>\n",
       "      <td>EMS: DIZZINESS</td>\n",
       "      <td>2015-12-10 16:56:52</td>\n",
       "      <td>LOWER POTTSGROVE</td>\n",
       "      <td>CHERRYWOOD CT &amp; DEAD END</td>\n",
       "      <td>1</td>\n",
       "      <td>DIZZINESS</td>\n",
       "      <td>EMS</td>\n",
       "      <td>16</td>\n",
       "      <td>12</td>\n",
       "    </tr>\n",
       "  </tbody>\n",
       "</table>\n",
       "</div>"
      ],
      "text/plain": [
       "         lat        lng                                               desc  \\\n",
       "0  40.297876 -75.581294  REINDEER CT & DEAD END;  NEW HANOVER; Station ...   \n",
       "1  40.258061 -75.264680  BRIAR PATH & WHITEMARSH LN;  HATFIELD TOWNSHIP...   \n",
       "2  40.121182 -75.351975  HAWS AVE; NORRISTOWN; 2015-12-10 @ 14:39:21-St...   \n",
       "3  40.116153 -75.343513  AIRY ST & SWEDE ST;  NORRISTOWN; Station 308A;...   \n",
       "4  40.251492 -75.603350  CHERRYWOOD CT & DEAD END;  LOWER POTTSGROVE; S...   \n",
       "\n",
       "       zip                    title           timeStamp                twp  \\\n",
       "0  19525.0   EMS: BACK PAINS/INJURY 2015-12-10 17:10:52        NEW HANOVER   \n",
       "1  19446.0  EMS: DIABETIC EMERGENCY 2015-12-10 17:29:21  HATFIELD TOWNSHIP   \n",
       "2  19401.0      Fire: GAS-ODOR/LEAK 2015-12-10 14:39:21         NORRISTOWN   \n",
       "3  19401.0   EMS: CARDIAC EMERGENCY 2015-12-10 16:47:36         NORRISTOWN   \n",
       "4      NaN           EMS: DIZZINESS 2015-12-10 16:56:52   LOWER POTTSGROVE   \n",
       "\n",
       "                         addr  e               divide emergency  Hour  month  \n",
       "0      REINDEER CT & DEAD END  1    BACK PAINS/INJURY       EMS    17     12  \n",
       "1  BRIAR PATH & WHITEMARSH LN  1   DIABETIC EMERGENCY       EMS    17     12  \n",
       "2                    HAWS AVE  1        GAS-ODOR/LEAK      Fire    14     12  \n",
       "3          AIRY ST & SWEDE ST  1    CARDIAC EMERGENCY       EMS    16     12  \n",
       "4    CHERRYWOOD CT & DEAD END  1            DIZZINESS       EMS    16     12  "
      ]
     },
     "execution_count": 34,
     "metadata": {},
     "output_type": "execute_result"
    }
   ],
   "source": [
    "dataframe.head()"
   ]
  },
  {
   "cell_type": "code",
   "execution_count": 35,
   "metadata": {},
   "outputs": [
    {
     "data": {
      "text/html": [
       "<div>\n",
       "<style scoped>\n",
       "    .dataframe tbody tr th:only-of-type {\n",
       "        vertical-align: middle;\n",
       "    }\n",
       "\n",
       "    .dataframe tbody tr th {\n",
       "        vertical-align: top;\n",
       "    }\n",
       "\n",
       "    .dataframe thead th {\n",
       "        text-align: right;\n",
       "    }\n",
       "</style>\n",
       "<table border=\"1\" class=\"dataframe\">\n",
       "  <thead>\n",
       "    <tr style=\"text-align: right;\">\n",
       "      <th></th>\n",
       "      <th>lat</th>\n",
       "      <th>lng</th>\n",
       "      <th>desc</th>\n",
       "      <th>zip</th>\n",
       "      <th>title</th>\n",
       "      <th>timeStamp</th>\n",
       "      <th>twp</th>\n",
       "      <th>addr</th>\n",
       "      <th>e</th>\n",
       "      <th>divide</th>\n",
       "      <th>emergency</th>\n",
       "      <th>Hour</th>\n",
       "      <th>month</th>\n",
       "    </tr>\n",
       "  </thead>\n",
       "  <tbody>\n",
       "    <tr>\n",
       "      <th>289235</th>\n",
       "      <td>40.024967</td>\n",
       "      <td>-75.282905</td>\n",
       "      <td>SCHUYLKILL EXPY &amp; RAMP CITY AVE EB TO I76 WB; ...</td>\n",
       "      <td>NaN</td>\n",
       "      <td>EMS: VEHICLE ACCIDENT</td>\n",
       "      <td>2017-12-30 11:11:36</td>\n",
       "      <td>LOWER MERION</td>\n",
       "      <td>SCHUYLKILL EXPY &amp; RAMP CITY AVE EB TO I76 WB</td>\n",
       "      <td>1</td>\n",
       "      <td>VEHICLE ACCIDENT</td>\n",
       "      <td>EMS</td>\n",
       "      <td>11</td>\n",
       "      <td>12</td>\n",
       "    </tr>\n",
       "    <tr>\n",
       "      <th>289236</th>\n",
       "      <td>40.024967</td>\n",
       "      <td>-75.282905</td>\n",
       "      <td>SCHUYLKILL EXPY &amp; RAMP CITY AVE EB TO I76 WB; ...</td>\n",
       "      <td>NaN</td>\n",
       "      <td>Fire: VEHICLE ACCIDENT</td>\n",
       "      <td>2017-12-30 11:11:30</td>\n",
       "      <td>LOWER MERION</td>\n",
       "      <td>SCHUYLKILL EXPY &amp; RAMP CITY AVE EB TO I76 WB</td>\n",
       "      <td>1</td>\n",
       "      <td>VEHICLE ACCIDENT</td>\n",
       "      <td>Fire</td>\n",
       "      <td>11</td>\n",
       "      <td>12</td>\n",
       "    </tr>\n",
       "    <tr>\n",
       "      <th>289237</th>\n",
       "      <td>40.107918</td>\n",
       "      <td>-75.163347</td>\n",
       "      <td>EDGE HILL RD &amp; LIMEKILN PIKE; ABINGTON; 2017-1...</td>\n",
       "      <td>19038.0</td>\n",
       "      <td>Traffic: VEHICLE ACCIDENT -</td>\n",
       "      <td>2017-12-30 11:15:24</td>\n",
       "      <td>ABINGTON</td>\n",
       "      <td>EDGE HILL RD &amp; LIMEKILN PIKE</td>\n",
       "      <td>1</td>\n",
       "      <td>VEHICLE ACCIDENT -</td>\n",
       "      <td>Traffic</td>\n",
       "      <td>11</td>\n",
       "      <td>12</td>\n",
       "    </tr>\n",
       "    <tr>\n",
       "      <th>289238</th>\n",
       "      <td>40.061921</td>\n",
       "      <td>-75.117655</td>\n",
       "      <td>COVENTRY AVE &amp; NEW SECOND ST; CHELTENHAM; 2017...</td>\n",
       "      <td>19027.0</td>\n",
       "      <td>Traffic: DISABLED VEHICLE -</td>\n",
       "      <td>2017-12-30 11:12:03</td>\n",
       "      <td>CHELTENHAM</td>\n",
       "      <td>COVENTRY AVE &amp; NEW SECOND ST</td>\n",
       "      <td>1</td>\n",
       "      <td>DISABLED VEHICLE -</td>\n",
       "      <td>Traffic</td>\n",
       "      <td>11</td>\n",
       "      <td>12</td>\n",
       "    </tr>\n",
       "    <tr>\n",
       "      <th>289239</th>\n",
       "      <td>40.098662</td>\n",
       "      <td>-75.352777</td>\n",
       "      <td>DEKALB PIKE &amp; W BORO LINE RD; UPPER MERION; 20...</td>\n",
       "      <td>19406.0</td>\n",
       "      <td>Traffic: VEHICLE ACCIDENT -</td>\n",
       "      <td>2017-12-30 11:14:31</td>\n",
       "      <td>UPPER MERION</td>\n",
       "      <td>DEKALB PIKE &amp; W BORO LINE RD</td>\n",
       "      <td>1</td>\n",
       "      <td>VEHICLE ACCIDENT -</td>\n",
       "      <td>Traffic</td>\n",
       "      <td>11</td>\n",
       "      <td>12</td>\n",
       "    </tr>\n",
       "  </tbody>\n",
       "</table>\n",
       "</div>"
      ],
      "text/plain": [
       "              lat        lng  \\\n",
       "289235  40.024967 -75.282905   \n",
       "289236  40.024967 -75.282905   \n",
       "289237  40.107918 -75.163347   \n",
       "289238  40.061921 -75.117655   \n",
       "289239  40.098662 -75.352777   \n",
       "\n",
       "                                                     desc      zip  \\\n",
       "289235  SCHUYLKILL EXPY & RAMP CITY AVE EB TO I76 WB; ...      NaN   \n",
       "289236  SCHUYLKILL EXPY & RAMP CITY AVE EB TO I76 WB; ...      NaN   \n",
       "289237  EDGE HILL RD & LIMEKILN PIKE; ABINGTON; 2017-1...  19038.0   \n",
       "289238  COVENTRY AVE & NEW SECOND ST; CHELTENHAM; 2017...  19027.0   \n",
       "289239  DEKALB PIKE & W BORO LINE RD; UPPER MERION; 20...  19406.0   \n",
       "\n",
       "                              title           timeStamp           twp  \\\n",
       "289235        EMS: VEHICLE ACCIDENT 2017-12-30 11:11:36  LOWER MERION   \n",
       "289236       Fire: VEHICLE ACCIDENT 2017-12-30 11:11:30  LOWER MERION   \n",
       "289237  Traffic: VEHICLE ACCIDENT - 2017-12-30 11:15:24      ABINGTON   \n",
       "289238  Traffic: DISABLED VEHICLE - 2017-12-30 11:12:03    CHELTENHAM   \n",
       "289239  Traffic: VEHICLE ACCIDENT - 2017-12-30 11:14:31  UPPER MERION   \n",
       "\n",
       "                                                addr  e               divide  \\\n",
       "289235  SCHUYLKILL EXPY & RAMP CITY AVE EB TO I76 WB  1     VEHICLE ACCIDENT   \n",
       "289236  SCHUYLKILL EXPY & RAMP CITY AVE EB TO I76 WB  1     VEHICLE ACCIDENT   \n",
       "289237                  EDGE HILL RD & LIMEKILN PIKE  1   VEHICLE ACCIDENT -   \n",
       "289238                  COVENTRY AVE & NEW SECOND ST  1   DISABLED VEHICLE -   \n",
       "289239                  DEKALB PIKE & W BORO LINE RD  1   VEHICLE ACCIDENT -   \n",
       "\n",
       "       emergency  Hour  month  \n",
       "289235       EMS    11     12  \n",
       "289236      Fire    11     12  \n",
       "289237   Traffic    11     12  \n",
       "289238   Traffic    11     12  \n",
       "289239   Traffic    11     12  "
      ]
     },
     "execution_count": 35,
     "metadata": {},
     "output_type": "execute_result"
    }
   ],
   "source": [
    "dataframe.tail()"
   ]
  },
  {
   "cell_type": "code",
   "execution_count": 36,
   "metadata": {},
   "outputs": [
    {
     "data": {
      "text/plain": [
       "<AxesSubplot:xlabel='month', ylabel='count'>"
      ]
     },
     "execution_count": 36,
     "metadata": {},
     "output_type": "execute_result"
    },
    {
     "data": {
      "image/png": "[encoded data removed]",
      "text/plain": [
       "<Figure size 432x288 with 1 Axes>"
      ]
     },
     "metadata": {
      "needs_background": "light"
     },
     "output_type": "display_data"
    }
   ],
   "source": [
    "sns.countplot(x='month',data=dataframe,hue=\"emergency\")"
   ]
  },
  {
   "cell_type": "code",
   "execution_count": 37,
   "metadata": {},
   "outputs": [],
   "source": [
    "varmonth = dataframe.groupby('month').count()"
   ]
  },
  {
   "cell_type": "code",
   "execution_count": 38,
   "metadata": {},
   "outputs": [
    {
     "name": "stdout",
     "output_type": "stream",
     "text": [
      "         lat    lng   desc    zip  title  timeStamp    twp   addr      e  \\\n",
      "month                                                                      \n",
      "1      24701  24701  24701  21877  24701      24701  24692  24701  24701   \n",
      "2      21663  21663  21663  19161  21663      21663  21658  21663  21663   \n",
      "3      22743  22743  22743  20160  22743      22743  22732  22743  22743   \n",
      "4      22343  22343  22343  19671  22343      22343  22336  22343  22343   \n",
      "5      23093  23093  23093  20254  23093      23093  23082  23093  23093   \n",
      "6      24065  24065  24065  21070  24065      24065  24058  24065  24065   \n",
      "7      23856  23856  23856  20940  23856      23856  23850  23856  23856   \n",
      "8      23657  23657  23657  20739  23657      23657  23646  23657  23657   \n",
      "9      23001  23001  23001  20014  23001      23001  22993  23001  23001   \n",
      "10     24113  24113  24113  20931  24113      24113  24109  24113  24113   \n",
      "11     23639  23639  23639  20727  23639      23639  23629  23639  23639   \n",
      "12     32366  32366  32366  28398  32366      32366  32352  32366  32366   \n",
      "\n",
      "       divide  emergency   Hour  \n",
      "month                            \n",
      "1       24701      24701  24701  \n",
      "2       21663      21663  21663  \n",
      "3       22743      22743  22743  \n",
      "4       22343      22343  22343  \n",
      "5       23093      23093  23093  \n",
      "6       24065      24065  24065  \n",
      "7       23856      23856  23856  \n",
      "8       23657      23657  23657  \n",
      "9       23001      23001  23001  \n",
      "10      24113      24113  24113  \n",
      "11      23639      23639  23639  \n",
      "12      32366      32366  32366  \n"
     ]
    }
   ],
   "source": [
    "print(varmonth)"
   ]
  },
  {
   "cell_type": "code",
   "execution_count": 39,
   "metadata": {},
   "outputs": [
    {
     "data": {
      "text/plain": [
       "<AxesSubplot:xlabel='month'>"
      ]
     },
     "execution_count": 39,
     "metadata": {},
     "output_type": "execute_result"
    },
    {
     "data": {
      "image/png": "[encoded data removed]",
      "text/plain": [
       "<Figure size 432x288 with 1 Axes>"
      ]
     },
     "metadata": {
      "needs_background": "light"
     },
     "output_type": "display_data"
    }
   ],
   "source": [
    "varmonth['twp'].plot()"
   ]
  },
  {
   "cell_type": "code",
   "execution_count": null,
   "metadata": {},
   "outputs": [],
   "source": []
  },
  {
   "cell_type": "code",
   "execution_count": null,
   "metadata": {},
   "outputs": [],
   "source": []
  }
 ],
 "metadata": {
  "kernelspec": {
   "display_name": "Python 3",
   "language": "python",
   "name": "python3"
  },
  "language_info": {
   "codemirror_mode": {
    "name": "ipython",
    "version": 3
   },
   "file_extension": ".py",
   "mimetype": "text/x-python",
   "name": "python",
   "nbconvert_exporter": "python",
   "pygments_lexer": "ipython3",
   "version": "3.8.5"
  }
 },
 "nbformat": 4,
 "nbformat_minor": 4
}
